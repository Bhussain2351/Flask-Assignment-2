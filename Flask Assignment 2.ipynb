{
 "cells": [
  {
   "cell_type": "code",
   "execution_count": null,
   "id": "c4fd5e83-02d1-463a-a69e-5505c5292874",
   "metadata": {},
   "outputs": [],
   "source": [
    "1 Ans\n",
    "# GET is for fetching data, appending parameters in the URL, ideal for searches. POST, used for updates, \n",
    "# sends data securely in the request body, perfect for forms"
   ]
  },
  {
   "cell_type": "code",
   "execution_count": null,
   "id": "eb53922e-957c-41e2-809b-b45bb0d72399",
   "metadata": {},
   "outputs": [],
   "source": [
    "2 Ans\n",
    "\n",
    "# In a Flask App, we have our own Webpage (Client) and a Server. The Server should process the data. \n",
    "# The Request, in Flask, is an object that contains all the data sent from the Client to Server.\n",
    "# This data can be recovered using the GET/POST Methods."
   ]
  },
  {
   "cell_type": "code",
   "execution_count": null,
   "id": "92d3c7b4-b68b-4703-a311-55ada9b0fd81",
   "metadata": {},
   "outputs": [],
   "source": [
    "3 Ans\n",
    "\n",
    "# The redirect() function in the Flask class \n",
    "# redirects the user to a specified URL(Uniform Resource locator) with the provided status code.\n"
   ]
  },
  {
   "cell_type": "code",
   "execution_count": null,
   "id": "6fff0ec3-7af1-4421-8a6e-23aca2290783",
   "metadata": {},
   "outputs": [],
   "source": [
    "4 Ans\n",
    "# render_template is a Flask function from the flask. templating package. \n",
    "# render_template is used to generate output from a template file based on the Jinja2 engine \n",
    "# that is found in the application's templates folder.\n",
    "# Note that render_template is typically imported directly from the flask package instead of from flask."
   ]
  }
 ],
 "metadata": {
  "kernelspec": {
   "display_name": "Python 3 (ipykernel)",
   "language": "python",
   "name": "python3"
  },
  "language_info": {
   "codemirror_mode": {
    "name": "ipython",
    "version": 3
   },
   "file_extension": ".py",
   "mimetype": "text/x-python",
   "name": "python",
   "nbconvert_exporter": "python",
   "pygments_lexer": "ipython3",
   "version": "3.10.8"
  }
 },
 "nbformat": 4,
 "nbformat_minor": 5
}
